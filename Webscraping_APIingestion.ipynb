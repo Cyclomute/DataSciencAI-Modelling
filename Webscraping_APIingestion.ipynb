{
 "cells": [
  {
   "cell_type": "markdown",
   "id": "12d8e6b8-edab-4bbf-a368-4f9cebb53a3b",
   "metadata": {},
   "source": [
    "### Webscraping from toscrape.com"
   ]
  },
  {
   "cell_type": "code",
   "execution_count": 3,
   "id": "e1e206b0-eac5-4afa-a166-19c5f0e51f51",
   "metadata": {},
   "outputs": [
    {
     "name": "stdout",
     "output_type": "stream",
     "text": [
      "“The world as we have created it is a process of our thinking. It cannot be changed without changing our thinking.” - Albert Einstein\n",
      "“It is our choices, Harry, that show what we truly are, far more than our abilities.” - J.K. Rowling\n",
      "“There are only two ways to live your life. One is as though nothing is a miracle. The other is as though everything is a miracle.” - Albert Einstein\n",
      "“The person, be it gentleman or lady, who has not pleasure in a good novel, must be intolerably stupid.” - Jane Austen\n",
      "“Imperfection is beauty, madness is genius and it's better to be absolutely ridiculous than absolutely boring.” - Marilyn Monroe\n",
      "“Try not to become a man of success. Rather become a man of value.” - Albert Einstein\n",
      "“It is better to be hated for what you are than to be loved for what you are not.” - André Gide\n",
      "“I have not failed. I've just found 10,000 ways that won't work.” - Thomas A. Edison\n",
      "“A woman is like a tea bag; you never know how strong it is until it's in hot water.” - Eleanor Roosevelt\n",
      "“A day without sunshine is like, you know, night.” - Steve Martin\n"
     ]
    }
   ],
   "source": [
    "import requests \n",
    "from bs4 import BeautifulSoup\n",
    "\n",
    "url = \"http://quotes.toscrape.com/\" # url to scrape\n",
    "\n",
    "response = requests.get(url) # send a get request to fetch the HTML content\n",
    "\n",
    "soup = BeautifulSoup(response.text, \"html.parser\") # parse the HTML content using BeautifulSoup\n",
    "\n",
    "quotes_data = [] # empty list where the extracted quotes and authors will be stored\n",
    "\n",
    "for quote in soup.find_all(\"div\", class_=\"quote\"):\n",
    "    text = quote.find(\"span\", class_=\"text\").text\n",
    "    author = quote.find(\"small\", class_=\"author\").text\n",
    "    quotes_data.append({\"quote\":text, \"author\":author}) # (\"quote\":quote_text, \"author\":author_name)\n",
    "\n",
    "for q in quotes_data:\n",
    "    print(f\"{q[\"quote\"]} - {q[\"author\"]}\")\n"
   ]
  },
  {
   "cell_type": "markdown",
   "id": "2b1c00e4-ef4a-46f0-8d31-28fc868f7795",
   "metadata": {},
   "source": [
    "### API Ingestion with Openweathermap.org"
   ]
  },
  {
   "cell_type": "code",
   "execution_count": 5,
   "id": "4fa797cd-2447-4026-813b-e4335cd6b659",
   "metadata": {},
   "outputs": [
    {
     "name": "stdout",
     "output_type": "stream",
     "text": [
      "Rasw API response {'coord': {'lon': 3.75, 'lat': 6.5833}, 'weather': [{'id': 803, 'main': 'Clouds', 'description': 'broken clouds', 'icon': '04n'}], 'base': 'stations', 'main': {'temp': 23.65, 'feels_like': 24.55, 'temp_min': 23.65, 'temp_max': 23.65, 'pressure': 1009, 'humidity': 95, 'sea_level': 1009, 'grnd_level': 1009}, 'visibility': 10000, 'wind': {'speed': 0.64, 'deg': 338, 'gust': 0.77}, 'clouds': {'all': 68}, 'dt': 1735349402, 'sys': {'country': 'NG', 'sunrise': 1735365258, 'sunset': 1735407530}, 'timezone': 3600, 'id': 2332453, 'name': 'Lagos', 'cod': 200}\n",
      "City: Lagos\n",
      "Temperature: 23.65°C\n",
      "Weather: broken clouds\n"
     ]
    }
   ],
   "source": [
    "import requests \n",
    "\n",
    "api_url = \"https://api.openweathermap.org/data/2.5/weather?q=Lagos&units=metric&appid=2e576a89c507135e2e4f9bfec9d3df5d\"\n",
    "\n",
    "# Get the API request\n",
    "response = requests.get(api_url)\n",
    "\n",
    "# Check if the request was successful\n",
    "if response.status_code == 200:\n",
    "    weather_data = response.json() # Extract json data from response\n",
    "    print(\"Rasw API response\", weather_data)\n",
    "    city = weather_data.get(\"name\", \"unknown\")\n",
    "    main_data = weather_data.get(\"main\", {})\n",
    "    temp_celsius = main_data.get(\"temp\", \"No temperature data\")\n",
    "    weather = weather_data.get(\"weather\", [{}])[0]\n",
    "    weather_description = weather.get(\"description\", \"No description\")\n",
    "\n",
    "# Print the details\n",
    "    print(f\"City: {city}\")\n",
    "    print(f\"Temperature: {temp_celsius}°C\")\n",
    "    print(f\"Weather: {weather_description}\")\n",
    "else:\n",
    "    print(f\"Error fetching data from API. Status code: {response.status_code}\")\n",
    "    print(f\"Response: {response.text}\")"
   ]
  }
 ],
 "metadata": {
  "kernelspec": {
   "display_name": "Python 3 (ipykernel)",
   "language": "python",
   "name": "python3"
  },
  "language_info": {
   "codemirror_mode": {
    "name": "ipython",
    "version": 3
   },
   "file_extension": ".py",
   "mimetype": "text/x-python",
   "name": "python",
   "nbconvert_exporter": "python",
   "pygments_lexer": "ipython3",
   "version": "3.12.4"
  }
 },
 "nbformat": 4,
 "nbformat_minor": 5
}
