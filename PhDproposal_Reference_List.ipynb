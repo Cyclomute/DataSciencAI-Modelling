{
 "cells": [
  {
   "cell_type": "markdown",
   "id": "b4cca385-e427-42ec-96a7-637a7ccc2b38",
   "metadata": {},
   "source": [
    "1.\tBiernacki, A. (2022). Improving streaming video with deep learning-based network throughput prediction. Applied Sciences, 12(20), 10274. https://doi.org/10.3390/app122010274\n",
    "2.\tBiernacki, A. (2024). Throughput prediction of 5G network based on trace similarity for adaptive video. Applied Sciences, 14(5), 1962. https://doi.org/10.3390/app14051962\n",
    "3.\tBiswas, M., Chakraborty, A., & Palit, B. (2024). A Kalman filter-based low complexity throughput prediction algorithm for 5G cellular networks. IEEE Transactions on Vehicular Technology, 73(5), 7089–7101. https://doi.org/10.1109/TVT.2023.3339649\n",
    "4.\tEyceyurt, E., Egi, Y., & Zec, J. (2022). Machine-learning-based uplink throughput prediction from physical layer measurements. Electronics, 11(8), 1227. https://doi.org/10.3390/electronics11081227\n",
    "5.\tHa, A. L., Van Chien, T., Nguyen, T. H., Choi, W., & Nguyen, V. D. (2021). Deep learning-aided 5G channel estimation. In Proceedings of the 2021 15th International Conference on Ubiquitous Information Management and Communication (IMCOM) (pp. 1–7). https://doi.org/10.1109/IMCOM51814.2021.9377351\n",
    "6.\tKoudouridis, G. P., He, Q., & Dán, G. (2022). An architecture and performance evaluation framework for artificial intelligence solutions in beyond 5G radio access networks. Journal of Wireless Communications and Networking, 2022(94). https://doi.org/10.1186/s13638-022-02164-w\n",
    "7.\tMei, L., Gou, J., Cai, Y., Cao, H., & Liu, Y. (2022). Realtime mobile bandwidth and handoff predictions in 4G/5G networks. Computer Networks, 204, 108736. https://doi.org/10.1016/j.comnet.2021.108736\n",
    "8.\tNa, H., Shin, Y., Lee, D., & Lee, J. (2023). LSTM-based throughput prediction for LTE networks. ICT Express, 9(2), 247–252. https://doi.org/10.1016/j.icte.2021.12.001\n",
    "9.\tNajm, I. A., Hamoud, A. K., Lloret, J., & Bosch, I. (2019). Machine learning prediction approach to enhance congestion control in 5G IoT environment. Electronics, 8(6), 607. https://doi.org/10.3390/electronics8060607\n",
    "10.\tNayak, N. V., & R, R. S. (2021). 5G traffic prediction with time series analysis. arXiv. https://arxiv.org/abs/2110.03781\n",
    "11.\tNa, H., Shin, Y., Lee, D., & Lee, J. (2023). LSTM-based throughput prediction for LTE networks. ICT Express, 9(2), 247–252. https://doi.org/10.1016/j.icte.2021.12.001\n",
    "12.\tParada, R., Abu-Helalah, E., Serra, J., Aguilar, A., & Dini, P. (2025). Enhancing 5G O-RAN communication efficiency through AI-based latency forecasting. arXiv. https://arxiv.org/abs/2502.18046\n",
    "13.\tSalhab, N., Langar, R., & Rahim, R. (2021). 5G network slices resource orchestration using machine learning techniques. Computer Networks, 188, 107829. https://doi.org/10.1016/j.comnet.2021.107829\n",
    "14. Sliwa, B., Falkenberg, R., Liebig, T., Piatkowski, N., & Wietfeld, C. (2020). Boosting vehicle-to-cloud communication by machine learning-enabled context prediction. IEEE Transactions on Intelligent Transportation Systems, 21(8), 3497–3512. https://doi.org/10.1109/TITS.2019.2930109\n",
    "15.\tSliwa, B., Schippers, H., & Wietfeld, C. (2021). Machine learning-enabled data rate prediction for 5G NSA vehicle-to-cloud communications. In 2021 IEEE 4th 5G World Forum (5GWF) (pp. 299–304). https://doi.org/10.1109/5GWF52925.2021.00059\n",
    "16.\tTran, N. P., Delgado, O., Jaumard, B., & Bishay, F. (2023). ML KPI prediction in 5G and B5G networks. In 2023 Joint European Conference on Networks and Communications & 6G Summit (EuCNC/6G Summit) (pp. 502–507). https://doi.org/10.1109/EuCNC/6GSummit58263.2023.10188363\n",
    "17.\tTsipi, L., Karavolos, M., Papaioannou, G., & Others. (2024). Machine learning-based methods for MCS prediction in 5G networks. Telecommunication Systems, 86, 705–728. https://doi.org/10.1007/s11235-024-01158-x\n",
    "18.\tUllah, R., Marwat, S. N. K., Ahmad, A. M., Ahmed, S., Hafeez, A., Kamal, T., & Tufail, M. (2020). A machine learning approach for 5G SINR prediction. Electronics, 9(10), 1660. https://doi.org/10.3390/electronics9101660\n",
    "19.\tXu, Y., Yin, F., Xu, W., Lin, J., & Cui, S. (2019). Wireless traffic prediction with scalable Gaussian process: Framework, algorithms, and verification. IEEE Journal on Selected Areas in Communications, 37(6), 1291–1306. https://doi.org/10.1109/JSAC.2019.2904330\n",
    "20.\tZamzami, I. F. (2023). Deep learning models applied to prediction of 5G technology adoption. Applied Sciences, 13(1), 119. https://doi.org/10.3390/app13010119"
   ]
  }
 ],
 "metadata": {
  "kernelspec": {
   "display_name": "Python 3 (ipykernel)",
   "language": "python",
   "name": "python3"
  },
  "language_info": {
   "codemirror_mode": {
    "name": "ipython",
    "version": 3
   },
   "file_extension": ".py",
   "mimetype": "text/x-python",
   "name": "python",
   "nbconvert_exporter": "python",
   "pygments_lexer": "ipython3",
   "version": "3.12.4"
  }
 },
 "nbformat": 4,
 "nbformat_minor": 5
}
