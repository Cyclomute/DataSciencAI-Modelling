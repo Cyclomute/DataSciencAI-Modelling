{
 "cells": [
  {
   "cell_type": "markdown",
   "id": "9c965f72-f4be-495c-bb8e-cc5bead23724",
   "metadata": {},
   "source": [
    "### Fruit Colour Prediction with Random Forest"
   ]
  },
  {
   "cell_type": "code",
   "execution_count": 2,
   "id": "ab56c961-7989-49b2-a06b-5c7dd3478fe0",
   "metadata": {},
   "outputs": [],
   "source": [
    "# Importing required libraries\n",
    "import pandas as pd\n",
    "import numpy as np\n",
    "import matplotlib.pyplot as plt\n",
    "import seaborn as sns\n",
    "from sklearn.metrics import confusion_matrix, classification_report"
   ]
  },
  {
   "cell_type": "code",
   "execution_count": 3,
   "id": "d4379a6d-80d3-48e1-9ce5-d894ddd56c91",
   "metadata": {},
   "outputs": [],
   "source": [
    "# Loading the dataset\n",
    "dataset = \"/Users/morrisonosiezagha/Downloads/fruit_dataset.csv\"\n",
    "\n",
    "# Reading in the dataset with pandas\n",
    "df_fruitdata = pd.read_csv(dataset )"
   ]
  },
  {
   "cell_type": "code",
   "execution_count": 4,
   "id": "d071d9dc-317b-4d3e-8caf-c490d448932b",
   "metadata": {},
   "outputs": [
    {
     "data": {
      "text/html": [
       "<div>\n",
       "<style scoped>\n",
       "    .dataframe tbody tr th:only-of-type {\n",
       "        vertical-align: middle;\n",
       "    }\n",
       "\n",
       "    .dataframe tbody tr th {\n",
       "        vertical-align: top;\n",
       "    }\n",
       "\n",
       "    .dataframe thead th {\n",
       "        text-align: right;\n",
       "    }\n",
       "</style>\n",
       "<table border=\"1\" class=\"dataframe\">\n",
       "  <thead>\n",
       "    <tr style=\"text-align: right;\">\n",
       "      <th></th>\n",
       "      <th>Fruit</th>\n",
       "      <th>Size (cm)</th>\n",
       "      <th>Color (1 = Red, 0 = Green)</th>\n",
       "    </tr>\n",
       "  </thead>\n",
       "  <tbody>\n",
       "    <tr>\n",
       "      <th>0</th>\n",
       "      <td>Apple</td>\n",
       "      <td>11</td>\n",
       "      <td>1</td>\n",
       "    </tr>\n",
       "    <tr>\n",
       "      <th>1</th>\n",
       "      <td>Apple</td>\n",
       "      <td>14</td>\n",
       "      <td>0</td>\n",
       "    </tr>\n",
       "    <tr>\n",
       "      <th>2</th>\n",
       "      <td>Orange</td>\n",
       "      <td>12</td>\n",
       "      <td>0</td>\n",
       "    </tr>\n",
       "    <tr>\n",
       "      <th>3</th>\n",
       "      <td>Pear</td>\n",
       "      <td>13</td>\n",
       "      <td>0</td>\n",
       "    </tr>\n",
       "    <tr>\n",
       "      <th>4</th>\n",
       "      <td>Pear</td>\n",
       "      <td>9</td>\n",
       "      <td>0</td>\n",
       "    </tr>\n",
       "  </tbody>\n",
       "</table>\n",
       "</div>"
      ],
      "text/plain": [
       "    Fruit  Size (cm)  Color (1 = Red, 0 = Green)\n",
       "0   Apple         11                           1\n",
       "1   Apple         14                           0\n",
       "2  Orange         12                           0\n",
       "3    Pear         13                           0\n",
       "4    Pear          9                           0"
      ]
     },
     "execution_count": 4,
     "metadata": {},
     "output_type": "execute_result"
    }
   ],
   "source": [
    "# Examining the dataset\n",
    "df_fruitdata.head() # viewing the first five rows"
   ]
  },
  {
   "cell_type": "code",
   "execution_count": 5,
   "id": "05b0427e-1ff9-4f57-99b3-69194fd00dde",
   "metadata": {},
   "outputs": [
    {
     "data": {
      "text/plain": [
       "Fruit                         0\n",
       "Size (cm)                     0\n",
       "Color (1 = Red, 0 = Green)    0\n",
       "dtype: int64"
      ]
     },
     "execution_count": 5,
     "metadata": {},
     "output_type": "execute_result"
    }
   ],
   "source": [
    "# Examining the dataset\n",
    "df_fruitdata.isnull().sum() # checking for null entries"
   ]
  },
  {
   "cell_type": "code",
   "execution_count": 6,
   "id": "16428e85-c442-46e7-9513-7e994c358597",
   "metadata": {},
   "outputs": [],
   "source": [
    "# df_fruitdata.duplicated().sum()\n",
    "# df_fruitdata.drop_duplicates(inplace=True)"
   ]
  },
  {
   "cell_type": "code",
   "execution_count": 7,
   "id": "3eaf075a-3eb6-4924-b166-933bc1447db6",
   "metadata": {},
   "outputs": [
    {
     "name": "stdout",
     "output_type": "stream",
     "text": [
      "<class 'pandas.core.frame.DataFrame'>\n",
      "RangeIndex: 100 entries, 0 to 99\n",
      "Data columns (total 3 columns):\n",
      " #   Column                      Non-Null Count  Dtype \n",
      "---  ------                      --------------  ----- \n",
      " 0   Fruit                       100 non-null    object\n",
      " 1   Size (cm)                   100 non-null    int64 \n",
      " 2   Color (1 = Red, 0 = Green)  100 non-null    int64 \n",
      "dtypes: int64(2), object(1)\n",
      "memory usage: 2.5+ KB\n"
     ]
    }
   ],
   "source": [
    "# Examining the dataset\n",
    "df_fruitdata.info() # checking the dtype of the variables"
   ]
  },
  {
   "cell_type": "code",
   "execution_count": 8,
   "id": "abb8f7be-7f00-40c4-b7c2-aca3ba8fd6a8",
   "metadata": {},
   "outputs": [
    {
     "data": {
      "image/png": "[encoded data removed]",
      "text/plain": [
       "<Figure size 640x480 with 1 Axes>"
      ]
     },
     "metadata": {},
     "output_type": "display_data"
    }
   ],
   "source": [
    "# Examining the dataset by visualizing the variable distributions\n",
    "sns.boxplot(data=df_fruitdata, y=\"Size (cm)\", hue=\"Color (1 = Red, 0 = Green)\", x=\"Fruit\")\n",
    "legend = plt.legend(bbox_to_anchor=(1.05, 1), loc='upper left', borderaxespad=0)\n",
    "legend.set_title(\"Fruit Color\")  # Set the title of the legend\n",
    "plt.tight_layout()  # Adjust layout\n",
    "plt.show()"
   ]
  },
  {
   "cell_type": "code",
   "execution_count": 9,
   "id": "bce924de-ec17-49d0-a798-02e816e1cab0",
   "metadata": {},
   "outputs": [
    {
     "name": "stdout",
     "output_type": "stream",
     "text": [
      "Class distribution before SMOTE: Color (1 = Red, 0 = Green)\n",
      "1    45\n",
      "0    35\n",
      "Name: count, dtype: int64\n",
      "Class distribution after SMOTE: Color (1 = Red, 0 = Green)\n",
      "1    45\n",
      "0    45\n",
      "Name: count, dtype: int64\n"
     ]
    }
   ],
   "source": [
    "# Importing Label Encoder to convert strings to int i.e Fruits to 1s and 0s\n",
    "from sklearn.preprocessing import LabelEncoder\n",
    "\n",
    "# Encode the 'Fruit' column\n",
    "encoder = LabelEncoder()\n",
    "df_fruitdata['Fruit'] = encoder.fit_transform(df_fruitdata['Fruit'])\n",
    "\n",
    "# Importing train_test_split library\n",
    "from sklearn.model_selection import train_test_split\n",
    "\n",
    "# Defining the features and target\n",
    "X = df_fruitdata[[\"Fruit\", \"Size (cm)\"]] # features\n",
    "y = df_fruitdata[\"Color (1 = Red, 0 = Green)\"] # target\n",
    "\n",
    "# Splitting the data into training set (80%) and testing set (20%)\n",
    "X_train, X_test, y_train, y_test = train_test_split(X, y, test_size=0.2, random_state=42)\n",
    "\n",
    "# Importing StandardScaler\n",
    "from sklearn.preprocessing import StandardScaler\n",
    "\n",
    "# Applying Regularization on the data with StandardScaler\n",
    "scale_train = StandardScaler()\n",
    "scale_train.fit(X_train)\n",
    "X_train = scale_train.transform(X_train)\n",
    "X_test = scale_train.transform(X_test)\n",
    "\n",
    "# Importing SMOTE to balance the data\n",
    "from imblearn.over_sampling import SMOTE\n",
    "\n",
    "# Applying SMOTE to the training data to balance class distribution\n",
    "smote = SMOTE(random_state=42)\n",
    "X_train_smote, y_train_smote = smote.fit_resample(X_train, y_train)\n",
    "\n",
    "# Checking the class distribution before and after applying SMOTE\n",
    "print(\"Class distribution before SMOTE:\", y_train.value_counts())\n",
    "print(\"Class distribution after SMOTE:\", y_train_smote.value_counts())"
   ]
  },
  {
   "cell_type": "code",
   "execution_count": 10,
   "id": "c61a4bc4-187d-42db-9e4e-a29b69326e66",
   "metadata": {},
   "outputs": [
    {
     "name": "stdout",
     "output_type": "stream",
     "text": [
      "Feature: Fruit, Importance: 0.3587\n",
      "Feature: Size (cm), Importance: 0.6413\n"
     ]
    },
    {
     "data": {
      "image/png": "[encoded data removed]",
      "text/plain": [
       "<Figure size 640x480 with 1 Axes>"
      ]
     },
     "metadata": {},
     "output_type": "display_data"
    }
   ],
   "source": [
    "# Importing RandomForestClassifier\n",
    "from sklearn.ensemble import RandomForestClassifier\n",
    "\n",
    "# Initializing the classifier\n",
    "fruitcolor_model_smote = RandomForestClassifier(random_state=42)\n",
    "\n",
    "# Training the Random Forest model on the balanced dataset\n",
    "fruitcolor_model_smote.fit(X_train_smote, y_train_smote)\n",
    "\n",
    "# Getting feature importance from the trained model\n",
    "importances = fruitcolor_model_smote.feature_importances_\n",
    "\n",
    "# Assigning feature names\n",
    "feature_names = [\"Fruit\", \"Size (cm)\"]\n",
    "\n",
    "# Displaying feature importance\n",
    "for feature, importance in zip(feature_names, importances):\n",
    "    print(f\"Feature: {feature}, Importance: {importance:.4f}\")\n",
    "    \n",
    "plt.bar(feature_names, importances, color=\"skyblue\")\n",
    "plt.title(\"Feature Importance\")\n",
    "plt.ylabel(\"Importance\")\n",
    "plt.show()"
   ]
  },
  {
   "cell_type": "code",
   "execution_count": 11,
   "id": "86edb075-25a0-4d30-af94-fd2f87d2080a",
   "metadata": {},
   "outputs": [
    {
     "name": "stdout",
     "output_type": "stream",
     "text": [
      "The predicted color for the fruit is: Red\n"
     ]
    }
   ],
   "source": [
    "# Making predictions with New fruit (nfruit) details\n",
    "nfruit = [[0, 8]]  # Fruit = 0 (Green), Size = 8 cm\n",
    "\n",
    "# Predicting the color (1 = Red, 0 = Green)\n",
    "predicted_color = fruitcolor_model_smote.predict(nfruit)\n",
    "\n",
    "# Interpreting and displaying the result\n",
    "color_name = \"Red\" if predicted_color[0] == 1 else \"Green\"\n",
    "print(f\"The predicted color for the fruit is: {color_name}\")"
   ]
  },
  {
   "cell_type": "code",
   "execution_count": 12,
   "id": "0ded07d3-0a95-4e48-bdc4-00e84aad91c1",
   "metadata": {},
   "outputs": [
    {
     "name": "stdout",
     "output_type": "stream",
     "text": [
      "Confusion Matrix (after SMOTE):\n"
     ]
    },
    {
     "data": {
      "image/png": "[encoded data removed]",
      "text/plain": [
       "<Figure size 640x480 with 2 Axes>"
      ]
     },
     "metadata": {},
     "output_type": "display_data"
    },
    {
     "name": "stdout",
     "output_type": "stream",
     "text": [
      "\n",
      "Classification Report (after SMOTE):\n",
      "              precision    recall  f1-score   support\n",
      "\n",
      "           0       0.55      0.60      0.57        10\n",
      "           1       0.56      0.50      0.53        10\n",
      "\n",
      "    accuracy                           0.55        20\n",
      "   macro avg       0.55      0.55      0.55        20\n",
      "weighted avg       0.55      0.55      0.55        20\n",
      "\n"
     ]
    }
   ],
   "source": [
    "# Testing the model's performance on the test data\n",
    "y_pred_smote = fruitcolor_model_smote.predict(X_test)\n",
    "\n",
    "# Evaluating the model\n",
    "print(\"Confusion Matrix (after SMOTE):\")\n",
    "cm = confusion_matrix(y_test, y_pred_smote)\n",
    "sns.heatmap(cm, annot=True, fmt=\"d\", cmap=\"Blues\", xticklabels=[\"Green\", \"Red\"], yticklabels=[\"Green\", \"Red\"])\n",
    "plt.ylabel(\"Actual\")\n",
    "plt.xlabel(\"Predicted\")\n",
    "plt.show()\n",
    "\n",
    "print(\"\\nClassification Report (after SMOTE):\")\n",
    "print(classification_report(y_test, y_pred_smote))"
   ]
  },
  {
   "cell_type": "code",
   "execution_count": 13,
   "id": "530b7654-9f62-461e-b2db-eea37498e304",
   "metadata": {},
   "outputs": [
    {
     "name": "stdout",
     "output_type": "stream",
     "text": [
      "Cross-Validation Accuracy: 0.59 ± 0.06\n",
      "\n",
      "Best fruitcolor_model Accuracy is: 0.59\n"
     ]
    }
   ],
   "source": [
    "# Optimizing the model with Cross Validation\n",
    "\n",
    "from sklearn.model_selection import cross_val_score\n",
    "\n",
    "scores = cross_val_score(fruitcolor_model_smote, X, y, cv=4, scoring='accuracy')\n",
    "print(f\"Cross-Validation Accuracy: {np.mean(scores):.2f} ± {np.std(scores):.2f}\")\n",
    "\n",
    "print(f\"\\nBest fruitcolor_model Accuracy is: {np.mean(scores):.2f}\")"
   ]
  },
  {
   "cell_type": "code",
   "execution_count": 14,
   "id": "23b7b055-deb4-42b6-a1a3-5a29c6904697",
   "metadata": {},
   "outputs": [
    {
     "name": "stdout",
     "output_type": "stream",
     "text": [
      "Cross-validated model saved as 'fruitcolor_model_smote.pkl'\n"
     ]
    }
   ],
   "source": [
    "# Saving the cross-validated model to a file\n",
    "\n",
    "import joblib\n",
    "\n",
    "joblib.dump(fruitcolor_model_smote, \"fruitcolor_model_smote.pkl\")\n",
    "print(\"Cross-validated model saved as 'fruitcolor_model_smote.pkl'\")"
   ]
  }
 ],
 "metadata": {
  "kernelspec": {
   "display_name": "Python 3 (ipykernel)",
   "language": "python",
   "name": "python3"
  },
  "language_info": {
   "codemirror_mode": {
    "name": "ipython",
    "version": 3
   },
   "file_extension": ".py",
   "mimetype": "text/x-python",
   "name": "python",
   "nbconvert_exporter": "python",
   "pygments_lexer": "ipython3",
   "version": "3.12.4"
  }
 },
 "nbformat": 4,
 "nbformat_minor": 5
}
